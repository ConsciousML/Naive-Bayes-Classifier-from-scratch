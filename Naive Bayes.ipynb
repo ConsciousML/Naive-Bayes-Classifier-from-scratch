{
 "cells": [
  {
   "cell_type": "code",
   "execution_count": 659,
   "metadata": {},
   "outputs": [],
   "source": [
    "import os\n",
    "import torch\n",
    "import pandas as pd\n",
    "import seaborn as sns\n",
    "from pprint import pprint\n",
    "from sklearn.base import BaseEstimator\n",
    "from sklearn.preprocessing import LabelEncoder\n",
    "from sklearn.model_selection import cross_val_score"
   ]
  },
  {
   "cell_type": "code",
   "execution_count": 642,
   "metadata": {},
   "outputs": [],
   "source": [
    "students_mat = pd.read_csv(os.path.join('data', 'student-mat.csv'))\n",
    "students_por = pd.read_csv(os.path.join('data', 'student-por.csv'))"
   ]
  },
  {
   "cell_type": "code",
   "execution_count": 643,
   "metadata": {},
   "outputs": [],
   "source": [
    "students = pd.concat([students_mat, students_por], axis=0)"
   ]
  },
  {
   "cell_type": "code",
   "execution_count": 644,
   "metadata": {},
   "outputs": [],
   "source": [
    "students['alc'] = students['Walc'] + students['Dalc']\n",
    "students = students.drop(columns=['Walc', 'Dalc'])"
   ]
  },
  {
   "cell_type": "code",
   "execution_count": 645,
   "metadata": {},
   "outputs": [],
   "source": [
    "numeric_cols = ['school',\n",
    "                'age',\n",
    "                'traveltime',\n",
    "                'studytime',\n",
    "                'failures',\n",
    "                'famrel',\n",
    "                'freetime',\n",
    "                'goout',\n",
    "                'health',\n",
    "                'absences',\n",
    "                'G1',\n",
    "                'G2',\n",
    "                'G3']\n",
    "students = students.drop(columns=numeric_cols)"
   ]
  },
  {
   "cell_type": "code",
   "execution_count": 646,
   "metadata": {},
   "outputs": [
    {
     "data": {
      "text/html": [
       "<div>\n",
       "<style scoped>\n",
       "    .dataframe tbody tr th:only-of-type {\n",
       "        vertical-align: middle;\n",
       "    }\n",
       "\n",
       "    .dataframe tbody tr th {\n",
       "        vertical-align: top;\n",
       "    }\n",
       "\n",
       "    .dataframe thead th {\n",
       "        text-align: right;\n",
       "    }\n",
       "</style>\n",
       "<table border=\"1\" class=\"dataframe\">\n",
       "  <thead>\n",
       "    <tr style=\"text-align: right;\">\n",
       "      <th></th>\n",
       "      <th>sex</th>\n",
       "      <th>address</th>\n",
       "      <th>famsize</th>\n",
       "      <th>Pstatus</th>\n",
       "      <th>Medu</th>\n",
       "      <th>Fedu</th>\n",
       "      <th>Mjob</th>\n",
       "      <th>Fjob</th>\n",
       "      <th>reason</th>\n",
       "      <th>guardian</th>\n",
       "      <th>schoolsup</th>\n",
       "      <th>famsup</th>\n",
       "      <th>paid</th>\n",
       "      <th>activities</th>\n",
       "      <th>nursery</th>\n",
       "      <th>higher</th>\n",
       "      <th>internet</th>\n",
       "      <th>romantic</th>\n",
       "      <th>alc</th>\n",
       "    </tr>\n",
       "  </thead>\n",
       "  <tbody>\n",
       "    <tr>\n",
       "      <th>0</th>\n",
       "      <td>F</td>\n",
       "      <td>U</td>\n",
       "      <td>GT3</td>\n",
       "      <td>A</td>\n",
       "      <td>4</td>\n",
       "      <td>4</td>\n",
       "      <td>at_home</td>\n",
       "      <td>teacher</td>\n",
       "      <td>course</td>\n",
       "      <td>mother</td>\n",
       "      <td>yes</td>\n",
       "      <td>no</td>\n",
       "      <td>no</td>\n",
       "      <td>no</td>\n",
       "      <td>yes</td>\n",
       "      <td>yes</td>\n",
       "      <td>no</td>\n",
       "      <td>no</td>\n",
       "      <td>2</td>\n",
       "    </tr>\n",
       "    <tr>\n",
       "      <th>1</th>\n",
       "      <td>F</td>\n",
       "      <td>U</td>\n",
       "      <td>GT3</td>\n",
       "      <td>T</td>\n",
       "      <td>1</td>\n",
       "      <td>1</td>\n",
       "      <td>at_home</td>\n",
       "      <td>other</td>\n",
       "      <td>course</td>\n",
       "      <td>father</td>\n",
       "      <td>no</td>\n",
       "      <td>yes</td>\n",
       "      <td>no</td>\n",
       "      <td>no</td>\n",
       "      <td>no</td>\n",
       "      <td>yes</td>\n",
       "      <td>yes</td>\n",
       "      <td>no</td>\n",
       "      <td>2</td>\n",
       "    </tr>\n",
       "    <tr>\n",
       "      <th>2</th>\n",
       "      <td>F</td>\n",
       "      <td>U</td>\n",
       "      <td>LE3</td>\n",
       "      <td>T</td>\n",
       "      <td>1</td>\n",
       "      <td>1</td>\n",
       "      <td>at_home</td>\n",
       "      <td>other</td>\n",
       "      <td>other</td>\n",
       "      <td>mother</td>\n",
       "      <td>yes</td>\n",
       "      <td>no</td>\n",
       "      <td>yes</td>\n",
       "      <td>no</td>\n",
       "      <td>yes</td>\n",
       "      <td>yes</td>\n",
       "      <td>yes</td>\n",
       "      <td>no</td>\n",
       "      <td>5</td>\n",
       "    </tr>\n",
       "    <tr>\n",
       "      <th>3</th>\n",
       "      <td>F</td>\n",
       "      <td>U</td>\n",
       "      <td>GT3</td>\n",
       "      <td>T</td>\n",
       "      <td>4</td>\n",
       "      <td>2</td>\n",
       "      <td>health</td>\n",
       "      <td>services</td>\n",
       "      <td>home</td>\n",
       "      <td>mother</td>\n",
       "      <td>no</td>\n",
       "      <td>yes</td>\n",
       "      <td>yes</td>\n",
       "      <td>yes</td>\n",
       "      <td>yes</td>\n",
       "      <td>yes</td>\n",
       "      <td>yes</td>\n",
       "      <td>yes</td>\n",
       "      <td>2</td>\n",
       "    </tr>\n",
       "    <tr>\n",
       "      <th>4</th>\n",
       "      <td>F</td>\n",
       "      <td>U</td>\n",
       "      <td>GT3</td>\n",
       "      <td>T</td>\n",
       "      <td>3</td>\n",
       "      <td>3</td>\n",
       "      <td>other</td>\n",
       "      <td>other</td>\n",
       "      <td>home</td>\n",
       "      <td>father</td>\n",
       "      <td>no</td>\n",
       "      <td>yes</td>\n",
       "      <td>yes</td>\n",
       "      <td>no</td>\n",
       "      <td>yes</td>\n",
       "      <td>yes</td>\n",
       "      <td>no</td>\n",
       "      <td>no</td>\n",
       "      <td>3</td>\n",
       "    </tr>\n",
       "  </tbody>\n",
       "</table>\n",
       "</div>"
      ],
      "text/plain": [
       "  sex address famsize Pstatus  Medu  Fedu     Mjob      Fjob  reason guardian  \\\n",
       "0   F       U     GT3       A     4     4  at_home   teacher  course   mother   \n",
       "1   F       U     GT3       T     1     1  at_home     other  course   father   \n",
       "2   F       U     LE3       T     1     1  at_home     other   other   mother   \n",
       "3   F       U     GT3       T     4     2   health  services    home   mother   \n",
       "4   F       U     GT3       T     3     3    other     other    home   father   \n",
       "\n",
       "  schoolsup famsup paid activities nursery higher internet romantic  alc  \n",
       "0       yes     no   no         no     yes    yes       no       no    2  \n",
       "1        no    yes   no         no      no    yes      yes       no    2  \n",
       "2       yes     no  yes         no     yes    yes      yes       no    5  \n",
       "3        no    yes  yes        yes     yes    yes      yes      yes    2  \n",
       "4        no    yes  yes         no     yes    yes       no       no    3  "
      ]
     },
     "execution_count": 646,
     "metadata": {},
     "output_type": "execute_result"
    }
   ],
   "source": [
    "students.head(5)"
   ]
  },
  {
   "cell_type": "code",
   "execution_count": 647,
   "metadata": {},
   "outputs": [],
   "source": [
    "categorical_dict = {}\n",
    "for col in students.columns:\n",
    "    if students[col].dtype == 'O':\n",
    "        le = LabelEncoder() \n",
    "        students[col] = le.fit_transform(students[col])\n",
    "        categorical_dict[col] = dict(zip(le.classes_, le.transform(le.classes_)))"
   ]
  },
  {
   "cell_type": "code",
   "execution_count": 648,
   "metadata": {},
   "outputs": [
    {
     "data": {
      "text/plain": [
       "<matplotlib.axes._subplots.AxesSubplot at 0x22864973408>"
      ]
     },
     "execution_count": 648,
     "metadata": {},
     "output_type": "execute_result"
    },
    {
     "data": {
      "image/png": "[encoded data removed]",
      "text/plain": [
       "<Figure size 432x288 with 1 Axes>"
      ]
     },
     "metadata": {
      "needs_background": "light"
     },
     "output_type": "display_data"
    }
   ],
   "source": [
    "sns.countplot(students['alc'])"
   ]
  },
  {
   "cell_type": "code",
   "execution_count": 649,
   "metadata": {},
   "outputs": [],
   "source": [
    "students.loc[students['alc'] <= 3, 'alc'] = 0\n",
    "students.loc[(students['alc'] > 3) & (students['alc'] <= 5), 'alc'] = 1\n",
    "students.loc[students['alc'] > 5, 'alc'] = 2"
   ]
  },
  {
   "cell_type": "code",
   "execution_count": 650,
   "metadata": {},
   "outputs": [
    {
     "data": {
      "text/plain": [
       "<matplotlib.axes._subplots.AxesSubplot at 0x2286627f288>"
      ]
     },
     "execution_count": 650,
     "metadata": {},
     "output_type": "execute_result"
    },
    {
     "data": {
      "image/png": "[encoded data removed]",
      "text/plain": [
       "<Figure size 432x288 with 1 Axes>"
      ]
     },
     "metadata": {
      "needs_background": "light"
     },
     "output_type": "display_data"
    }
   ],
   "source": [
    "sns.countplot(students['alc'])"
   ]
  },
  {
   "cell_type": "code",
   "execution_count": 651,
   "metadata": {},
   "outputs": [],
   "source": [
    "categorical_dict['alc'] = {'low' : 1, 'medium': 2, 'high': 3}"
   ]
  },
  {
   "cell_type": "code",
   "execution_count": 652,
   "metadata": {},
   "outputs": [
    {
     "name": "stdout",
     "output_type": "stream",
     "text": [
      "{'Fjob': {'at_home': 0, 'health': 1, 'other': 2, 'services': 3, 'teacher': 4},\n",
      " 'Mjob': {'at_home': 0, 'health': 1, 'other': 2, 'services': 3, 'teacher': 4},\n",
      " 'Pstatus': {'A': 0, 'T': 1},\n",
      " 'activities': {'no': 0, 'yes': 1},\n",
      " 'address': {'R': 0, 'U': 1},\n",
      " 'alc': {'high': 3, 'low': 1, 'medium': 2},\n",
      " 'famsize': {'GT3': 0, 'LE3': 1},\n",
      " 'famsup': {'no': 0, 'yes': 1},\n",
      " 'guardian': {'father': 0, 'mother': 1, 'other': 2},\n",
      " 'higher': {'no': 0, 'yes': 1},\n",
      " 'internet': {'no': 0, 'yes': 1},\n",
      " 'nursery': {'no': 0, 'yes': 1},\n",
      " 'paid': {'no': 0, 'yes': 1},\n",
      " 'reason': {'course': 0, 'home': 1, 'other': 2, 'reputation': 3},\n",
      " 'romantic': {'no': 0, 'yes': 1},\n",
      " 'schoolsup': {'no': 0, 'yes': 1},\n",
      " 'sex': {'F': 0, 'M': 1}}\n"
     ]
    }
   ],
   "source": [
    "pprint(categorical_dict)"
   ]
  },
  {
   "cell_type": "code",
   "execution_count": 653,
   "metadata": {},
   "outputs": [],
   "source": [
    "X = torch.from_numpy(students.iloc[:, :-1].values)\n",
    "y = torch.from_numpy(students.iloc[:, -1].values)"
   ]
  },
  {
   "cell_type": "code",
   "execution_count": 654,
   "metadata": {},
   "outputs": [],
   "source": [
    "class NaiveBayesClassifier(BaseEstimator):\n",
    "    def __init__(self, offset=1):\n",
    "        self.offset = offset\n",
    "        pass\n",
    "    \n",
    "    def fit(self, X, y, **kwargs):\n",
    "        size = X.shape[0]\n",
    "        \n",
    "        self.nb_features = X.shape[1]\n",
    "        y_uvals = y.unique()\n",
    "        self.nb_class = len(y_uvals)\n",
    "        self.class_probs = y.bincount().float() / size\n",
    "        \n",
    "        features_maxvals = torch.zeros((self.nb_features,), dtype=torch.int32)\n",
    "        for j in range(self.nb_features):\n",
    "            features_maxvals[j] = X[:, j].max()\n",
    "        \n",
    "        cond_probs = [] \n",
    "        for i in range(self.nb_class):\n",
    "            cond_probs.append([])\n",
    "            idx = torch.where(y == y_uvals[i])[0]\n",
    "            elts = X[idx]\n",
    "            \n",
    "            size_class = elts.shape[0]\n",
    "            for j in range(self.nb_features):\n",
    "                cond_probs[i].append([])\n",
    "                for k in range(features_maxvals[j] + 1):\n",
    "                    p_x_k = (torch.where(elts[:, j] == k)[0].shape[0] + self.offset) / size_class\n",
    "                    cond_probs[i][j].append(p_x_k)\n",
    "        self.cond_probs = cond_probs\n",
    "        return 0\n",
    "    \n",
    "    def predict(self, X):\n",
    "        if len(X.shape) == 1:\n",
    "            X = X.unsqueeze(0)\n",
    "        \n",
    "        nb_samples = X.shape[0]\n",
    "        pred_probs = torch.zeros((nb_samples, self.nb_class), dtype=torch.float32)\n",
    "        for k in range(nb_samples):\n",
    "            elt = X[k]\n",
    "            for i in range(self.nb_class):\n",
    "                pred_probs[k][i] = self.class_probs[i]\n",
    "                prob_feature_per_class = self.cond_probs[i]\n",
    "                for j in range(self.nb_features):\n",
    "                    pred_probs[k][i] *= prob_feature_per_class[j][elt[j]]\n",
    "        return pred_probs.argmax(dim=1)"
   ]
  },
  {
   "cell_type": "code",
   "execution_count": 662,
   "metadata": {},
   "outputs": [
    {
     "data": {
      "text/plain": [
       "0.5450680898049319"
      ]
     },
     "execution_count": 662,
     "metadata": {},
     "output_type": "execute_result"
    }
   ],
   "source": [
    "nbc = NaiveBayesClassifier()\n",
    "\n",
    "cross_val_score(nbc, X, y, cv=5, scoring='accuracy').mean()"
   ]
  },
  {
   "cell_type": "code",
   "execution_count": 663,
   "metadata": {},
   "outputs": [
    {
     "data": {
      "text/plain": [
       "0.5517252484357748"
      ]
     },
     "execution_count": 663,
     "metadata": {},
     "output_type": "execute_result"
    }
   ],
   "source": [
    "from sklearn.naive_bayes import MultinomialNB\n",
    "mnb = MultinomialNB()\n",
    "\n",
    "cross_val_score(mnb, X, y, cv=5, scoring='accuracy').mean()"
   ]
  }
 ],
 "metadata": {
  "kernelspec": {
   "display_name": "Python 3",
   "language": "python",
   "name": "python3"
  },
  "language_info": {
   "codemirror_mode": {
    "name": "ipython",
    "version": 3
   },
   "file_extension": ".py",
   "mimetype": "text/x-python",
   "name": "python",
   "nbconvert_exporter": "python",
   "pygments_lexer": "ipython3",
   "version": "3.7.7"
  }
 },
 "nbformat": 4,
 "nbformat_minor": 4
}
